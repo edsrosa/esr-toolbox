{
 "cells": [
  {
   "cell_type": "code",
   "execution_count": null,
   "id": "701d783a",
   "metadata": {},
   "outputs": [],
   "source": [
    "from uses.use import folder"
   ]
  },
  {
   "cell_type": "code",
   "execution_count": null,
   "id": "77ddca43",
   "metadata": {},
   "outputs": [],
   "source": [
    "# Pasta base para catalogar arquivos\n",
    "basefolder = 'folder'"
   ]
  },
  {
   "cell_type": "code",
   "execution_count": null,
   "id": "56b51bcb",
   "metadata": {},
   "outputs": [],
   "source": [
    "# Criar classe e listar propriedades bases\n",
    "folder = folder(basefolder=basefolder)"
   ]
  }
 ],
 "metadata": {
  "kernelspec": {
   "display_name": ".venv",
   "language": "python",
   "name": "python3"
  },
  "language_info": {
   "codemirror_mode": {
    "name": "ipython",
    "version": 3
   },
   "file_extension": ".py",
   "mimetype": "text/x-python",
   "name": "python",
   "nbconvert_exporter": "python",
   "pygments_lexer": "ipython3",
   "version": "3.12.3"
  }
 },
 "nbformat": 4,
 "nbformat_minor": 5
}
