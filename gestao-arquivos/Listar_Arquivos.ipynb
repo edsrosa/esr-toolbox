{
 "cells": [
  {
   "cell_type": "code",
   "execution_count": 1,
   "id": "701d783a",
   "metadata": {},
   "outputs": [],
   "source": [
    "from uses.use import list_folder, export_xlsx"
   ]
  },
  {
   "cell_type": "code",
   "execution_count": 2,
   "id": "77ddca43",
   "metadata": {},
   "outputs": [],
   "source": [
    "# Pasta base para catalogar arquivos\n",
    "basefolder = 'folder'"
   ]
  },
  {
   "cell_type": "code",
   "execution_count": null,
   "id": "7fa20f15",
   "metadata": {},
   "outputs": [],
   "source": [
    "# Arquivo onde catalagação serão salva\n",
    "file_output = 'folder.xlsx'"
   ]
  },
  {
   "cell_type": "code",
   "execution_count": 5,
   "id": "56b51bcb",
   "metadata": {},
   "outputs": [],
   "source": [
    "# Criar classe e listar propriedades bases\n",
    "listagem = list_folder(basefolder=basefolder)"
   ]
  },
  {
   "cell_type": "code",
   "execution_count": 6,
   "id": "4fe86b2c",
   "metadata": {},
   "outputs": [],
   "source": [
    "# Exportar da listagem para arquivo Excel\n",
    "export_xlsx(list_folder=listagem, filepath=file_output)"
   ]
  }
 ],
 "metadata": {
  "kernelspec": {
   "display_name": ".venv",
   "language": "python",
   "name": "python3"
  },
  "language_info": {
   "codemirror_mode": {
    "name": "ipython",
    "version": 3
   },
   "file_extension": ".py",
   "mimetype": "text/x-python",
   "name": "python",
   "nbconvert_exporter": "python",
   "pygments_lexer": "ipython3",
   "version": "3.12.3"
  }
 },
 "nbformat": 4,
 "nbformat_minor": 5
}
